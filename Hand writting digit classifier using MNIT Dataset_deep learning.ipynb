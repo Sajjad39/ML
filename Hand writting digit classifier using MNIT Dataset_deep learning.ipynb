{
 "cells": [
  {
   "cell_type": "code",
   "execution_count": null,
   "metadata": {},
   "outputs": [],
   "source": [
    "#Step 1: Install required libraries"
   ]
  },
  {
   "cell_type": "code",
   "execution_count": 1,
   "metadata": {},
   "outputs": [
    {
     "name": "stdout",
     "output_type": "stream",
     "text": [
      "Requirement already satisfied: tensorflow in c:\\users\\sajja\\anaconda3\\lib\\site-packages (2.13.0)\n",
      "Requirement already satisfied: tensorflow-intel==2.13.0; platform_system == \"Windows\" in c:\\users\\sajja\\anaconda3\\lib\\site-packages (from tensorflow) (2.13.0)\n",
      "Requirement already satisfied: six>=1.12.0 in c:\\users\\sajja\\anaconda3\\lib\\site-packages (from tensorflow-intel==2.13.0; platform_system == \"Windows\"->tensorflow) (1.15.0)\n",
      "Requirement already satisfied: keras<2.14,>=2.13.1 in c:\\users\\sajja\\anaconda3\\lib\\site-packages (from tensorflow-intel==2.13.0; platform_system == \"Windows\"->tensorflow) (2.13.1)\n",
      "Requirement already satisfied: flatbuffers>=23.1.21 in c:\\users\\sajja\\anaconda3\\lib\\site-packages (from tensorflow-intel==2.13.0; platform_system == \"Windows\"->tensorflow) (23.5.26)\n",
      "Requirement already satisfied: opt-einsum>=2.3.2 in c:\\users\\sajja\\anaconda3\\lib\\site-packages (from tensorflow-intel==2.13.0; platform_system == \"Windows\"->tensorflow) (3.3.0)\n",
      "Requirement already satisfied: tensorflow-estimator<2.14,>=2.13.0 in c:\\users\\sajja\\anaconda3\\lib\\site-packages (from tensorflow-intel==2.13.0; platform_system == \"Windows\"->tensorflow) (2.13.0)\n",
      "Requirement already satisfied: wrapt>=1.11.0 in c:\\users\\sajja\\anaconda3\\lib\\site-packages (from tensorflow-intel==2.13.0; platform_system == \"Windows\"->tensorflow) (1.11.2)\n",
      "Requirement already satisfied: google-pasta>=0.1.1 in c:\\users\\sajja\\anaconda3\\lib\\site-packages (from tensorflow-intel==2.13.0; platform_system == \"Windows\"->tensorflow) (0.2.0)\n",
      "Requirement already satisfied: astunparse>=1.6.0 in c:\\users\\sajja\\anaconda3\\lib\\site-packages (from tensorflow-intel==2.13.0; platform_system == \"Windows\"->tensorflow) (1.6.3)\n",
      "Requirement already satisfied: absl-py>=1.0.0 in c:\\users\\sajja\\anaconda3\\lib\\site-packages (from tensorflow-intel==2.13.0; platform_system == \"Windows\"->tensorflow) (1.4.0)\n",
      "Requirement already satisfied: setuptools in c:\\users\\sajja\\anaconda3\\lib\\site-packages (from tensorflow-intel==2.13.0; platform_system == \"Windows\"->tensorflow) (50.3.1.post20201107)\n",
      "Requirement already satisfied: tensorflow-io-gcs-filesystem>=0.23.1; platform_machine != \"arm64\" or platform_system != \"Darwin\" in c:\\users\\sajja\\anaconda3\\lib\\site-packages (from tensorflow-intel==2.13.0; platform_system == \"Windows\"->tensorflow) (0.31.0)\n",
      "Requirement already satisfied: typing-extensions<4.6.0,>=3.6.6 in c:\\users\\sajja\\anaconda3\\lib\\site-packages (from tensorflow-intel==2.13.0; platform_system == \"Windows\"->tensorflow) (3.7.4.3)\n",
      "Collecting numpy<=1.24.3,>=1.22\n",
      "  Using cached numpy-1.24.3-cp38-cp38-win_amd64.whl (14.9 MB)\n",
      "Requirement already satisfied: tensorboard<2.14,>=2.13 in c:\\users\\sajja\\anaconda3\\lib\\site-packages (from tensorflow-intel==2.13.0; platform_system == \"Windows\"->tensorflow) (2.13.0)\n",
      "Requirement already satisfied: gast<=0.4.0,>=0.2.1 in c:\\users\\sajja\\anaconda3\\lib\\site-packages (from tensorflow-intel==2.13.0; platform_system == \"Windows\"->tensorflow) (0.4.0)\n",
      "Requirement already satisfied: termcolor>=1.1.0 in c:\\users\\sajja\\anaconda3\\lib\\site-packages (from tensorflow-intel==2.13.0; platform_system == \"Windows\"->tensorflow) (2.3.0)\n",
      "Requirement already satisfied: libclang>=13.0.0 in c:\\users\\sajja\\anaconda3\\lib\\site-packages (from tensorflow-intel==2.13.0; platform_system == \"Windows\"->tensorflow) (16.0.6)\n",
      "Requirement already satisfied: grpcio<2.0,>=1.24.3 in c:\\users\\sajja\\anaconda3\\lib\\site-packages (from tensorflow-intel==2.13.0; platform_system == \"Windows\"->tensorflow) (1.56.2)\n",
      "Requirement already satisfied: packaging in c:\\users\\sajja\\anaconda3\\lib\\site-packages (from tensorflow-intel==2.13.0; platform_system == \"Windows\"->tensorflow) (20.4)\n",
      "Requirement already satisfied: h5py>=2.9.0 in c:\\users\\sajja\\anaconda3\\lib\\site-packages (from tensorflow-intel==2.13.0; platform_system == \"Windows\"->tensorflow) (2.10.0)\n",
      "Requirement already satisfied: protobuf!=4.21.0,!=4.21.1,!=4.21.2,!=4.21.3,!=4.21.4,!=4.21.5,<5.0.0dev,>=3.20.3 in c:\\users\\sajja\\anaconda3\\lib\\site-packages (from tensorflow-intel==2.13.0; platform_system == \"Windows\"->tensorflow) (4.23.4)\n",
      "Requirement already satisfied: wheel<1.0,>=0.23.0 in c:\\users\\sajja\\anaconda3\\lib\\site-packages (from astunparse>=1.6.0->tensorflow-intel==2.13.0; platform_system == \"Windows\"->tensorflow) (0.35.1)\n",
      "Requirement already satisfied: tensorboard-data-server<0.8.0,>=0.7.0 in c:\\users\\sajja\\anaconda3\\lib\\site-packages (from tensorboard<2.14,>=2.13->tensorflow-intel==2.13.0; platform_system == \"Windows\"->tensorflow) (0.7.1)\n",
      "Requirement already satisfied: google-auth-oauthlib<1.1,>=0.5 in c:\\users\\sajja\\anaconda3\\lib\\site-packages (from tensorboard<2.14,>=2.13->tensorflow-intel==2.13.0; platform_system == \"Windows\"->tensorflow) (1.0.0)\n",
      "Requirement already satisfied: werkzeug>=1.0.1 in c:\\users\\sajja\\anaconda3\\lib\\site-packages (from tensorboard<2.14,>=2.13->tensorflow-intel==2.13.0; platform_system == \"Windows\"->tensorflow) (1.0.1)\n",
      "Requirement already satisfied: requests<3,>=2.21.0 in c:\\users\\sajja\\anaconda3\\lib\\site-packages (from tensorboard<2.14,>=2.13->tensorflow-intel==2.13.0; platform_system == \"Windows\"->tensorflow) (2.24.0)\n",
      "Requirement already satisfied: google-auth<3,>=1.6.3 in c:\\users\\sajja\\anaconda3\\lib\\site-packages (from tensorboard<2.14,>=2.13->tensorflow-intel==2.13.0; platform_system == \"Windows\"->tensorflow) (2.22.0)\n",
      "Requirement already satisfied: markdown>=2.6.8 in c:\\users\\sajja\\anaconda3\\lib\\site-packages (from tensorboard<2.14,>=2.13->tensorflow-intel==2.13.0; platform_system == \"Windows\"->tensorflow) (3.4.3)\n",
      "Requirement already satisfied: pyparsing>=2.0.2 in c:\\users\\sajja\\anaconda3\\lib\\site-packages (from packaging->tensorflow-intel==2.13.0; platform_system == \"Windows\"->tensorflow) (2.4.7)\n",
      "Requirement already satisfied: requests-oauthlib>=0.7.0 in c:\\users\\sajja\\anaconda3\\lib\\site-packages (from google-auth-oauthlib<1.1,>=0.5->tensorboard<2.14,>=2.13->tensorflow-intel==2.13.0; platform_system == \"Windows\"->tensorflow) (1.3.0)\n",
      "Requirement already satisfied: chardet<4,>=3.0.2 in c:\\users\\sajja\\anaconda3\\lib\\site-packages (from requests<3,>=2.21.0->tensorboard<2.14,>=2.13->tensorflow-intel==2.13.0; platform_system == \"Windows\"->tensorflow) (3.0.4)\n",
      "Requirement already satisfied: idna<3,>=2.5 in c:\\users\\sajja\\anaconda3\\lib\\site-packages (from requests<3,>=2.21.0->tensorboard<2.14,>=2.13->tensorflow-intel==2.13.0; platform_system == \"Windows\"->tensorflow) (2.10)\n",
      "Requirement already satisfied: certifi>=2017.4.17 in c:\\users\\sajja\\anaconda3\\lib\\site-packages (from requests<3,>=2.21.0->tensorboard<2.14,>=2.13->tensorflow-intel==2.13.0; platform_system == \"Windows\"->tensorflow) (2020.6.20)\n",
      "Requirement already satisfied: urllib3!=1.25.0,!=1.25.1,<1.26,>=1.21.1 in c:\\users\\sajja\\anaconda3\\lib\\site-packages (from requests<3,>=2.21.0->tensorboard<2.14,>=2.13->tensorflow-intel==2.13.0; platform_system == \"Windows\"->tensorflow) (1.25.11)\n",
      "Requirement already satisfied: cachetools<6.0,>=2.0.0 in c:\\users\\sajja\\anaconda3\\lib\\site-packages (from google-auth<3,>=1.6.3->tensorboard<2.14,>=2.13->tensorflow-intel==2.13.0; platform_system == \"Windows\"->tensorflow) (5.3.1)\n",
      "Requirement already satisfied: pyasn1-modules>=0.2.1 in c:\\users\\sajja\\anaconda3\\lib\\site-packages (from google-auth<3,>=1.6.3->tensorboard<2.14,>=2.13->tensorflow-intel==2.13.0; platform_system == \"Windows\"->tensorflow) (0.3.0)\n",
      "Requirement already satisfied: rsa<5,>=3.1.4 in c:\\users\\sajja\\anaconda3\\lib\\site-packages (from google-auth<3,>=1.6.3->tensorboard<2.14,>=2.13->tensorflow-intel==2.13.0; platform_system == \"Windows\"->tensorflow) (4.9)\n",
      "Requirement already satisfied: importlib-metadata>=4.4; python_version < \"3.10\" in c:\\users\\sajja\\anaconda3\\lib\\site-packages (from markdown>=2.6.8->tensorboard<2.14,>=2.13->tensorflow-intel==2.13.0; platform_system == \"Windows\"->tensorflow) (6.8.0)\n",
      "Requirement already satisfied: oauthlib>=3.0.0 in c:\\users\\sajja\\anaconda3\\lib\\site-packages (from requests-oauthlib>=0.7.0->google-auth-oauthlib<1.1,>=0.5->tensorboard<2.14,>=2.13->tensorflow-intel==2.13.0; platform_system == \"Windows\"->tensorflow) (3.1.0)\n",
      "Requirement already satisfied: pyasn1<0.6.0,>=0.4.6 in c:\\users\\sajja\\anaconda3\\lib\\site-packages (from pyasn1-modules>=0.2.1->google-auth<3,>=1.6.3->tensorboard<2.14,>=2.13->tensorflow-intel==2.13.0; platform_system == \"Windows\"->tensorflow) (0.5.0)\n",
      "Requirement already satisfied: zipp>=0.5 in c:\\users\\sajja\\anaconda3\\lib\\site-packages (from importlib-metadata>=4.4; python_version < \"3.10\"->markdown>=2.6.8->tensorboard<2.14,>=2.13->tensorflow-intel==2.13.0; platform_system == \"Windows\"->tensorflow) (3.4.0)\n",
      "Installing collected packages: numpy\n",
      "  Attempting uninstall: numpy\n",
      "    Found existing installation: numpy 1.24.4\n",
      "    Uninstalling numpy-1.24.4:\n",
      "      Successfully uninstalled numpy-1.24.4\n",
      "Successfully installed numpy-1.24.3\n"
     ]
    },
    {
     "name": "stdout",
     "output_type": "stream",
     "text": [
      "Requirement already satisfied: keras in c:\\users\\sajja\\anaconda3\\lib\\site-packages (2.13.1)\n"
     ]
    }
   ],
   "source": [
    "!pip install tensorflow\n",
    "!pip install keras\n"
   ]
  },
  {
   "cell_type": "code",
   "execution_count": null,
   "metadata": {},
   "outputs": [],
   "source": [
    "\n"
   ]
  },
  {
   "cell_type": "code",
   "execution_count": 2,
   "metadata": {},
   "outputs": [
    {
     "name": "stdout",
     "output_type": "stream",
     "text": [
      "1.24.3\n"
     ]
    }
   ],
   "source": [
    "import numpy as np\n",
    "print(np.__version__)\n"
   ]
  },
  {
   "cell_type": "code",
   "execution_count": 3,
   "metadata": {},
   "outputs": [
    {
     "name": "stdout",
     "output_type": "stream",
     "text": [
      "Collecting numpy\n",
      "  Using cached numpy-1.24.4-cp38-cp38-win_amd64.whl (14.9 MB)\n",
      "Installing collected packages: numpy\n",
      "  Attempting uninstall: numpy\n",
      "    Found existing installation: numpy 1.24.3\n",
      "    Uninstalling numpy-1.24.3:\n",
      "      Successfully uninstalled numpy-1.24.3\n"
     ]
    },
    {
     "name": "stderr",
     "output_type": "stream",
     "text": [
      "ERROR: Could not install packages due to an EnvironmentError: [WinError 5] Access is denied: 'C:\\\\Users\\\\sajja\\\\anaconda3\\\\Lib\\\\site-packages\\\\~~mpy\\\\.libs\\\\libopenblas64__v0.3.21-gcc_10_3_0.dll'\n",
      "Consider using the `--user` option or check the permissions.\n",
      "\n"
     ]
    }
   ],
   "source": [
    "!pip install --upgrade numpy"
   ]
  },
  {
   "cell_type": "code",
   "execution_count": null,
   "metadata": {},
   "outputs": [],
   "source": [
    "!pip uninstall numpy\n",
    "!pip install numpy\n"
   ]
  },
  {
   "cell_type": "code",
   "execution_count": null,
   "metadata": {},
   "outputs": [],
   "source": [
    "# Step 1: Install required libraries\n",
    "# Make sure you have TensorFlow and Keras installed. You can install them using pip:\n",
    "# pip install tensorflow\n",
    "# pip install keras\n",
    "\n",
    "# Step 2: Import necessary libraries\n",
    "import numpy as np\n",
    "import tensorflow as tf\n",
    "from tensorflow.keras.datasets import mnist\n",
    "from tensorflow.keras.models import Sequential\n",
    "from tensorflow.keras.layers import Dense, Flatten\n",
    "from tensorflow.keras.utils import to_categorical\n",
    "\n",
    "# Step 3: Load and preprocess the dataset\n",
    "# Load the dataset\n",
    "(train_images, train_labels), (test_images, test_labels) = mnist.load_data()\n",
    "\n",
    "# Normalize pixel values to the range [0, 1]\n",
    "train_images = train_images.astype('float32') / 255\n",
    "test_images = test_images.astype('float32') / 255\n",
    "\n",
    "# One-hot encode the labels\n",
    "train_labels = to_categorical(train_labels, 10)\n",
    "test_labels = to_categorical(test_labels, 10)\n",
    "\n",
    "# Step 4: Build the neural network model\n",
    "model = Sequential()\n",
    "model.add(Flatten(input_shape=(28, 28)))  # Flatten the 28x28 images into a 1D array\n",
    "model.add(Dense(128, activation='relu'))    # Hidden layer with 128 neurons and ReLU activation\n",
    "model.add(Dense(10, activation='softmax'))  # Output layer with 10 neurons for each digit and softmax activation\n",
    "\n",
    "# Step 5: Compile the model\n",
    "model.compile(optimizer='adam', loss='categorical_crossentropy', metrics=['accuracy'])\n",
    "\n",
    "# Step 6: Train the model\n",
    "model.fit(train_images, train_labels, epochs=5, batch_size=32, validation_split=0.1)\n",
    "\n",
    "# Step 7: Evaluate the model\n",
    "test_loss, test_accuracy = model.evaluate(test_images, test_labels)\n",
    "print(\"Test accuracy:\", test_accuracy)\n",
    "\n",
    "# Step 8: Make predictions\n",
    "predictions = model.predict(test_images[:5])\n",
    "print(\"Predictions:\", np.argmax(predictions, axis=1))\n",
    "print(\"True labels:\", np.argmax(test_labels[:5], axis=1))\n"
   ]
  },
  {
   "cell_type": "code",
   "execution_count": null,
   "metadata": {},
   "outputs": [],
   "source": []
  },
  {
   "cell_type": "code",
   "execution_count": null,
   "metadata": {},
   "outputs": [],
   "source": []
  }
 ],
 "metadata": {
  "kernelspec": {
   "display_name": "Python 3",
   "language": "python",
   "name": "python3"
  },
  "language_info": {
   "codemirror_mode": {
    "name": "ipython",
    "version": 3
   },
   "file_extension": ".py",
   "mimetype": "text/x-python",
   "name": "python",
   "nbconvert_exporter": "python",
   "pygments_lexer": "ipython3",
   "version": "3.8.5"
  }
 },
 "nbformat": 4,
 "nbformat_minor": 4
}
